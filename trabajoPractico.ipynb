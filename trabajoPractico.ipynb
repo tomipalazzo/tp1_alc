{
 "cells": [
  {
   "cell_type": "markdown",
   "metadata": {},
   "source": [
    "## Trabajo Practico Algebra Lineal Computacional"
   ]
  },
  {
   "cell_type": "code",
   "execution_count": 1,
   "metadata": {},
   "outputs": [],
   "source": [
    "import numpy as np\n",
    "import matplotlib.pyplot as plt\n",
    "import math \n",
    "import sympy as sym\n",
    "import scipy as la\n",
    "import time"
   ]
  },
  {
   "cell_type": "markdown",
   "metadata": {},
   "source": [
    "# Ejercicio 1"
   ]
  },
  {
   "cell_type": "code",
   "execution_count": 23,
   "metadata": {},
   "outputs": [],
   "source": [
    "def generar_matriz(J):\n",
    "    unos = np.ones(J) #es un vector de unos de 10 casilleros\n",
    "    A    = np.diag(-2*unos)\n",
    "    B    = np.diag(unos[1:],1) # le paso un vector de 1s de 9 casilleros, así el resultado queda de 10x10\n",
    "    C    = np.diag(unos[1:],-1)\n",
    "\n",
    "    A    = A+B+C\n",
    "    return A"
   ]
  },
  {
   "cell_type": "markdown",
   "metadata": {},
   "source": [
    "# Ejercicio 2"
   ]
  },
  {
   "cell_type": "markdown",
   "metadata": {},
   "source": [
    "### Ejercicio 13"
   ]
  },
  {
   "cell_type": "code",
   "execution_count": 3,
   "metadata": {},
   "outputs": [],
   "source": [
    "# dado un 'L' y un 'b' resuelve Lx = b\n",
    "def res_L(L, b):\n",
    "    y = np.zeros(len(b))\n",
    "    for i in range(len(b)):\n",
    "        y[i] = ( b[i] - (L[i, :i] @ y[:i]) ) / L[i,i]\n",
    "    return y\n",
    "\n",
    "\n",
    "#Dado un 'U' y un 'y' resuelve Ux = y\n",
    "def res_U(U, y):\n",
    "    x = np.zeros(len(y))\n",
    "    n = len(x)-1\n",
    "    \n",
    "    x[n] = y[n]/U[n,n]\n",
    "    n = n-1\n",
    "    while n >= 0:\n",
    "        x[n] = (y[n] - (U[n, n+1:] @ x[n+1:])) / U[n, n]\n",
    "        n = n-1\n",
    "    \n",
    "    return x\n",
    "\n"
   ]
  },
  {
   "cell_type": "markdown",
   "metadata": {},
   "source": [
    "### Ejercicio 16"
   ]
  },
  {
   "cell_type": "code",
   "execution_count": 52,
   "metadata": {},
   "outputs": [],
   "source": [
    "# a\n",
    "\n",
    "# Dada una Matriz A de nxn, me devuelve la descomposicion LU de A (A = LU)\n",
    "# Asumo que A no es necesario que haga pivoteos\n",
    "def LU(A):\n",
    "    L = np.eye(A.shape[0])\n",
    "    U = A.copy().astype(float)\n",
    "    \n",
    "    for i in range(A.shape[0]):\n",
    "        for j in range(i+1, A.shape[0]):\n",
    "            L[j,i] =  U[j,i]/U[i,i]\n",
    "            U[j, i:] = U[j,i:] - (U[j,i]/U[i,i]) * U[i,i:]\n",
    "            \n",
    "        \n",
    "    return  L,U\n",
    "\n",
    "#b \n",
    "\n",
    "def resolver_sistema(A, b):\n",
    "    L, U = LU(A)\n",
    "    \n",
    "    y = res_L(L, b)\n",
    "    x = res_U(U, y)\n",
    "    \n",
    "    return x\n",
    "    "
   ]
  },
  {
   "cell_type": "code",
   "execution_count": 5,
   "metadata": {},
   "outputs": [
    {
     "name": "stdout",
     "output_type": "stream",
     "text": [
      "Ax es igual a [1. 2. 4.] que es lo mismo que b\n"
     ]
    }
   ],
   "source": [
    "# Testeo\n",
    "\n",
    "A = np.array([[1.,3.,0.],[7.,1.,2.],[8.,10.,1.]])\n",
    "b = np.array([1,2,4])\n",
    "\n",
    "x = resolver_sistema(A,b)\n",
    "\n",
    "print('Ax es igual a', A@x, 'que es lo mismo que b')"
   ]
  },
  {
   "cell_type": "markdown",
   "metadata": {},
   "source": [
    "# Ejercicio 4\n",
    "Descomposición LU de una matriz A tridiagonal"
   ]
  },
  {
   "cell_type": "code",
   "execution_count": 6,
   "metadata": {},
   "outputs": [],
   "source": [
    "def lu_tridiagonal(A):\n",
    "    n = len(A)\n",
    "    L = np.identity(n)\n",
    "    U = A.copy()            \n",
    "    \n",
    "    for i in range(1, n):\n",
    "        c = U[i][i-1]/U[i-1][i-1]\n",
    "        L[i][i-1] = c\n",
    "        U[i][i-1:i+1] = U[i][i-1:i+1] - c*(U[i-1][i-1:i+1])        \n",
    "    \n",
    "    return L, U"
   ]
  },
  {
   "cell_type": "code",
   "execution_count": 7,
   "metadata": {},
   "outputs": [
    {
     "name": "stdout",
     "output_type": "stream",
     "text": [
      "[[ 1  1  0  0]\n",
      " [ 3  7  3  0]\n",
      " [ 0  8  8  4]\n",
      " [ 0  0  2 -3]]\n",
      "[[ 1.  1.  0.  0.]\n",
      " [ 3.  7.  3.  0.]\n",
      " [ 0.  8.  8.  4.]\n",
      " [ 0.  0.  2. -3.]]\n"
     ]
    }
   ],
   "source": [
    "# Testeo\n",
    "\n",
    "A = np.array([[1,1,0,0],[3,7,3,0],[0,8,8,4],[0,0,2,-3]])\n",
    "print(A)\n",
    "\n",
    "L, U = lu_tridiagonal(A)\n",
    "print(np.matmul(L,U))"
   ]
  },
  {
   "cell_type": "markdown",
   "metadata": {},
   "source": [
    "# Ejercicio 5 "
   ]
  },
  {
   "cell_type": "code",
   "execution_count": 8,
   "metadata": {},
   "outputs": [],
   "source": [
    "# Dada una Matriz L bidiagonal inferior, con unos en la diagonal principal\n",
    "# resuelve Ly = b\n",
    "\n",
    "def res_L_reducido(L, b):\n",
    "    m    = len(b)\n",
    "    y    = np.zeros(m)\n",
    "    y[0] = b[0]                         # Separo caso \n",
    "    for i in range(1, m):\n",
    "        y[i] = b[i] - L[i, i-1] * y[i-1]\n",
    "    \n",
    "    return y\n",
    "\n",
    "# Dada una Matriz U bidiagonal superior, la afuncion resuelve Ux=y\n",
    "def res_U_reducido(U, y):\n",
    "    m      = len(y)\n",
    "    x      = np.zeros(m)\n",
    "    x[m-1] = y[m-1]/U[m-1, m-1]         # Separo caso \n",
    "    for i in range(m-2, -1, -1):        # realiza un for en sentido contrario\n",
    "        x[i] = (y[i] - U[i, i+1] * x[i+1]) / U[i,i]\n",
    "    \n",
    "    return x"
   ]
  },
  {
   "cell_type": "code",
   "execution_count": 24,
   "metadata": {},
   "outputs": [
    {
     "name": "stdout",
     "output_type": "stream",
     "text": [
      "[[-2.  1.  0.  0.  0.  0.  0.  0.  0.  0.]\n",
      " [ 1. -2.  1.  0.  0.  0.  0.  0.  0.  0.]\n",
      " [ 0.  1. -2.  1.  0.  0.  0.  0.  0.  0.]\n",
      " [ 0.  0.  1. -2.  1.  0.  0.  0.  0.  0.]\n",
      " [ 0.  0.  0.  1. -2.  1.  0.  0.  0.  0.]\n",
      " [ 0.  0.  0.  0.  1. -2.  1.  0.  0.  0.]\n",
      " [ 0.  0.  0.  0.  0.  1. -2.  1.  0.  0.]\n",
      " [ 0.  0.  0.  0.  0.  0.  1. -2.  1.  0.]\n",
      " [ 0.  0.  0.  0.  0.  0.  0.  1. -2.  1.]\n",
      " [ 0.  0.  0.  0.  0.  0.  0.  0.  1. -2.]]\n"
     ]
    }
   ],
   "source": [
    "#Construyamos la matriz:\n",
    "A = generar_matriz(10)\n",
    "print(A)\n"
   ]
  },
  {
   "cell_type": "code",
   "execution_count": 11,
   "metadata": {},
   "outputs": [
    {
     "name": "stdout",
     "output_type": "stream",
     "text": [
      "[1.  1.5 2.  2.5 3.  3.5 4.  4.5 5.  5.5]\n",
      "[1.  1.5 2.  2.5 3.  3.5 4.  4.5 5.  5.5]\n",
      "[ -5.  -9. -12. -14. -15. -15. -14. -12.  -9.  -5.]\n",
      "[ -5.  -9. -12. -14. -15. -15. -14. -12.  -9.  -5.]\n"
     ]
    }
   ],
   "source": [
    "# Chequeo que ande\n",
    "unos = np.ones(10) #es un vector de unos de 10 casilleros\n",
    "l, u = LU(A)\n",
    "b    = unos\n",
    "\n",
    "yres = res_L_reducido(l, b)\n",
    "xres = res_U_reducido(u, yres)\n",
    "y    = res_L(l, b)\n",
    "x    = res_U(u, y)\n",
    "\n",
    "print(yres)\n",
    "print(y)\n",
    "print(xres)\n",
    "print(x)"
   ]
  },
  {
   "cell_type": "markdown",
   "metadata": {},
   "source": [
    "# Ejercicio 6\n"
   ]
  },
  {
   "cell_type": "code",
   "execution_count": 12,
   "metadata": {},
   "outputs": [],
   "source": [
    "def res_A_tridiagonal(A, b):\n",
    "    L, U = lu_tridiagonal(A)\n",
    "    y = res_L_reducido(L, b)\n",
    "    x = res_U_reducido(U, y)\n",
    "    return x\n",
    "\n"
   ]
  },
  {
   "cell_type": "code",
   "execution_count": 26,
   "metadata": {
    "scrolled": true
   },
   "outputs": [
    {
     "name": "stdout",
     "output_type": "stream",
     "text": [
      "[[-2.  1.  0.  0.  0.]\n",
      " [ 1. -2.  1.  0.  0.]\n",
      " [ 0.  1. -2.  1.  0.]\n",
      " [ 0.  0.  1. -2.  1.]\n",
      " [ 0.  0.  0.  1. -2.]]\n"
     ]
    },
    {
     "data": {
      "text/plain": [
       "array([1., 1., 1., 1., 1.])"
      ]
     },
     "execution_count": 26,
     "metadata": {},
     "output_type": "execute_result"
    }
   ],
   "source": [
    "# Chequeo que ande --------> ANDA\n",
    "J = 5\n",
    "\n",
    "unos = np.ones(J) #es un vector de unos de 10 casilleros\n",
    "A = generar_matriz(J)\n",
    "print(A)\n",
    "A @ res_A_tridiagonal(A, unos) # es igual a 'unos'\n"
   ]
  },
  {
   "cell_type": "markdown",
   "metadata": {},
   "source": [
    "# Ejercicio 7"
   ]
  },
  {
   "cell_type": "code",
   "execution_count": 74,
   "metadata": {},
   "outputs": [],
   "source": [
    "def generar_A_vec(d, ds, di):\n",
    "    A = np.diag(d)\n",
    "    B = np.diag(ds,1)         # diagonal superior\n",
    "    C = np.diag(di, -1)\n",
    "    A = A+B+C\n",
    "    \n",
    "    return A\n",
    "\n",
    "def res_sistema_tri(d, ds, di, b):\n",
    "    A   = generar_A_vec(d, ds, di)\n",
    "    res = res_A_tridiagonal(A,b)\n",
    "\n",
    "    return res"
   ]
  },
  {
   "cell_type": "code",
   "execution_count": 77,
   "metadata": {},
   "outputs": [
    {
     "data": {
      "text/plain": [
       "(array([[-2.,  1.,  0.,  0.,  0.],\n",
       "        [ 1., -2.,  1.,  0.,  0.],\n",
       "        [ 0.,  1., -2.,  1.,  0.],\n",
       "        [ 0.,  0.,  1., -2.,  1.],\n",
       "        [ 0.,  0.,  0.,  1., -2.]]),\n",
       " array([-2.5, -4. , -4.5, -4. , -2.5]))"
      ]
     },
     "execution_count": 77,
     "metadata": {},
     "output_type": "execute_result"
    }
   ],
   "source": [
    "unos = np.ones(5) #es un vector de unos de 10 casilleros\n",
    "D    = -2*unos\n",
    "D_S    = unos[1:] # le paso un vector de 1s de 9 casilleros, así el resultado queda de 10x10\n",
    "D_I    = unos[1:]\n",
    "\n",
    "res_sistema(D,D_S,D_I, unos)"
   ]
  },
  {
   "cell_type": "code",
   "execution_count": 69,
   "metadata": {},
   "outputs": [
    {
     "data": {
      "image/png": "[encoded data removed]",
      "text/plain": [
       "<Figure size 864x576 with 1 Axes>"
      ]
     },
     "metadata": {
      "needs_background": "light"
     },
     "output_type": "display_data"
    }
   ],
   "source": [
    "J = 20\n",
    "f = lambda t : np.sin(np.pi * t)\n",
    "x = np.linspace(0, 1, J+2) #J puntos interiores + los dos extremos\n",
    "h = x[1]\n",
    "b = f(x[1:-1])\n",
    "A = (-1/h**2) * generar_matriz(J)\n",
    "u = np.zeros(J+2)\n",
    "u [1:-1] = res_A_tridiagonal(A, b)\n",
    "\n",
    "# Tuneo el plot\n",
    "plt.figure(figsize=(12,8))\n",
    "\n",
    "plt.plot(x, u, c='red', label='sol aproximada') #Sol aproximada - ROJO\n",
    "U = lambda t : np.sin(np.pi * t) /np.pi**2 #solexacta\n",
    "plt.plot (x,U(x), label='sol exacta') # Sol exacta - AZUL\n",
    "\n",
    "plt.title('Aproximar sen($\\pi$(x))')\n",
    "plt.xlabel('Eje x')\n",
    "plt.ylabel('sen($\\pi$(x))')\n",
    "plt.legend()\n",
    "plt.show()"
   ]
  },
  {
   "cell_type": "code",
   "execution_count": 65,
   "metadata": {},
   "outputs": [
    {
     "name": "stdout",
     "output_type": "stream",
     "text": [
      "4.76837158203125e-07\n",
      "4.76837158203125e-07\n"
     ]
    }
   ],
   "source": [
    "def calcular_tiempo(f):\n",
    "    start = time.time()\n",
    "    f\n",
    "    tiempo = time.time() - start\n",
    "    \n",
    "    return tiempo\n",
    "\n",
    "print(calcular_tiempo(resolver_sistema(generar_matriz(1000), np.ones(1000))))\n",
    "print(calcular_tiempo(res_A_tridiagonal(generar_matriz(1000), np.ones(1000))))\n"
   ]
  },
  {
   "cell_type": "code",
   "execution_count": 50,
   "metadata": {},
   "outputs": [],
   "source": [
    "def comparar_tiempos():\n",
    "    J = 20\n",
    "    f = lambda t : np.sin (np.pi * t)\n",
    "    j_vec = np.linspace(1000, 2000, 10) #J puntos interiores + los dos extremos\n",
    "    N = len(j_vec)\n",
    "    b = f(j_vec[1:-1])\n",
    "\n",
    "    \n",
    "    t_lu = np.zeros(N)\n",
    "    t_trid = (np.zeros(N))\n",
    "    \n",
    "    for i in range(N):\n",
    "        j = int(j_vec[i])\n",
    "        print(j)\n",
    "        x = np.linspace(0, 1, j+2) #J puntos interiores + los dos extremos\n",
    "        h = x[1]\n",
    "        b = f(x[1:-1])\n",
    "        A = generar_matriz(j)\n",
    "        \n",
    "        t_lu[i]   = calcular_tiempo(resolver_sistema(A, b))\n",
    "        t_trid[i] = calcular_tiempo(res_A_tridiagonal(A, b))\n",
    "    \n",
    "    plt.figure(figsize=(12,8))\n",
    "    plt.plot(j_vec, t_lu, label= 'T_LU')\n",
    "    plt.plot(j_vec, t_trid, label='T_trid')\n",
    "    plt.legend()\n",
    "    plt.show()"
   ]
  },
  {
   "cell_type": "code",
   "execution_count": 51,
   "metadata": {
    "scrolled": false
   },
   "outputs": [
    {
     "name": "stdout",
     "output_type": "stream",
     "text": [
      "1000\n",
      "1111\n",
      "1222\n",
      "1333\n",
      "1444\n",
      "1555\n",
      "1666\n",
      "1777\n",
      "1888\n",
      "2000\n"
     ]
    },
    {
     "data": {
      "image/png": "[encoded data removed]",
      "text/plain": [
       "<Figure size 864x576 with 1 Axes>"
      ]
     },
     "metadata": {
      "needs_background": "light"
     },
     "output_type": "display_data"
    }
   ],
   "source": [
    "comparar_tiempos()"
   ]
  },
  {
   "cell_type": "code",
   "execution_count": null,
   "metadata": {},
   "outputs": [],
   "source": []
  }
 ],
 "metadata": {
  "kernelspec": {
   "display_name": "Python 3",
   "language": "python",
   "name": "python3"
  },
  "language_info": {
   "codemirror_mode": {
    "name": "ipython",
    "version": 3
   },
   "file_extension": ".py",
   "mimetype": "text/x-python",
   "name": "python",
   "nbconvert_exporter": "python",
   "pygments_lexer": "ipython3",
   "version": "3.8.3"
  }
 },
 "nbformat": 4,
 "nbformat_minor": 4
}
