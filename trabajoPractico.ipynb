{
 "cells": [
  {
   "cell_type": "markdown",
   "metadata": {},
   "source": [
    "## Trabajo Practico Algebra Lineal Computacional"
   ]
  },
  {
   "cell_type": "code",
   "execution_count": 1,
   "metadata": {},
   "outputs": [],
   "source": [
    "import numpy as np\n",
    "import matplotlib.pyplot as plt\n",
    "import math \n",
    "import sympy as sym\n",
    "import scipy as la"
   ]
  },
  {
   "cell_type": "markdown",
   "metadata": {},
   "source": [
    "## Ejercicio 13"
   ]
  },
  {
   "cell_type": "code",
   "execution_count": 2,
   "metadata": {},
   "outputs": [],
   "source": [
    "# dado un 'L' y un 'b' resuelve Lx = b\n",
    "def res_L(L, b):\n",
    "    y = np.zeros(len(b))\n",
    "    for i in range(len(b)):\n",
    "        y[i] = ( b[i] - (L[i, :i] @ y[:i]) ) / L[i,i]\n",
    "    return y\n",
    "\n",
    "\n",
    "#Dado un 'U' y un 'y' resuelve Ux = y\n",
    "def res_U(U, y):\n",
    "    x = np.zeros(len(y))\n",
    "    n = len(x)-1\n",
    "    \n",
    "    x[n] = y[n]/U[n,n]\n",
    "    n = n-1\n",
    "    while n >= 0:\n",
    "        x[n] = (y[n] - (U[n, n+1:] @ x[n+1:])) / U[n, n]\n",
    "        n = n-1\n",
    "    \n",
    "    return x\n",
    "\n"
   ]
  },
  {
   "cell_type": "markdown",
   "metadata": {},
   "source": [
    "## Ejercicio 16"
   ]
  },
  {
   "cell_type": "code",
   "execution_count": 22,
   "metadata": {},
   "outputs": [],
   "source": [
    "# a\n",
    "\n",
    "# Dada una Matriz A de nxn, me devuelve la descomposicion LU de A (A = LU)\n",
    "# Asumo que A no es necesario que haga pivoteos\n",
    "def LU(A):\n",
    "    L = np.eye(A.shape[0])\n",
    "    U = A.copy().astype(float)\n",
    "    \n",
    "    for i in range(A.shape[0]):\n",
    "        for j in range(i+1, A.shape[0]):\n",
    "            L[j,i] =  U[j,i]/U[i,i]\n",
    "            U[j, i:] = U[j,i:] - (U[j,i]/U[i,i]) * U[i,i:]\n",
    "            \n",
    "        \n",
    "    return  L,U\n",
    "\n",
    "#b \n",
    "\n",
    "def resolverA(A, b):\n",
    "    L, U = LU(A)\n",
    "    \n",
    "    y = res_L(L, b)\n",
    "    x = res_U(U, y)\n",
    "    \n",
    "    return x\n",
    "    "
   ]
  },
  {
   "cell_type": "code",
   "execution_count": 4,
   "metadata": {},
   "outputs": [
    {
     "name": "stdout",
     "output_type": "stream",
     "text": [
      "Ax es igual a [1. 2. 4.] que es lo mismo que b\n"
     ]
    }
   ],
   "source": [
    "A = np.array([[1.,3.,0.],[7.,1.,2.],[8.,10.,1.]])\n",
    "b = np.array([1,2,4])\n",
    "\n",
    "x = resolverA(A,b)\n",
    "\n",
    "print('Ax es igual a', A@x, 'que es lo mismo que b')"
   ]
  },
  {
   "cell_type": "code",
   "execution_count": null,
   "metadata": {},
   "outputs": [],
   "source": [
    "\n",
    "A@x"
   ]
  },
  {
   "cell_type": "markdown",
   "metadata": {},
   "source": [
    "Esto es un branch para practicar"
   ]
  },
  {
   "cell_type": "code",
   "execution_count": null,
   "metadata": {},
   "outputs": [],
   "source": [
    "sym.MatrixSymbol('A', 2, 2)\n",
    "\n"
   ]
  },
  {
   "cell_type": "markdown",
   "metadata": {},
   "source": [
    "# Ejercicio 5 - TP"
   ]
  },
  {
   "cell_type": "code",
   "execution_count": 42,
   "metadata": {},
   "outputs": [],
   "source": [
    "# Dada una Matriz L bidiagonal inferior, con unos en la diagonal principal\n",
    "# resuelve Ly = b\n",
    "\n",
    "def res_L_reducido(L, b):\n",
    "    m = len(b)\n",
    "    y = np.zeros(m)\n",
    "    y[0] = b[0] # Separo caso \n",
    "    for i in range(1, m):\n",
    "        y[i] = b[i] - L[i, i-1] * y[i-1]\n",
    "    \n",
    "    return y\n",
    "\n",
    "# Dada una Matriz U bidiagonal superior, la afuncion resuelve Ux=y\n",
    "def res_U_reducido(U, y):\n",
    "    m = len(y)\n",
    "    x = np.zeros(m)\n",
    "    \n",
    "    x[m-1] = y[m-1]/U[m-1, m-1]\n",
    "    for i in range(m-2, -1, -1): # realiza un for en sentido contrario\n",
    "        x[i] = (y[i] - U[i, i+1] * x[i+1]) / U[i,i]\n",
    "    \n",
    "    return x"
   ]
  },
  {
   "cell_type": "code",
   "execution_count": 44,
   "metadata": {},
   "outputs": [
    {
     "name": "stdout",
     "output_type": "stream",
     "text": [
      "[[-2.  0.  0.  0.  0.  0.  0.  0.  0.  0.]\n",
      " [ 0. -2.  0.  0.  0.  0.  0.  0.  0.  0.]\n",
      " [ 0.  0. -2.  0.  0.  0.  0.  0.  0.  0.]\n",
      " [ 0.  0.  0. -2.  0.  0.  0.  0.  0.  0.]\n",
      " [ 0.  0.  0.  0. -2.  0.  0.  0.  0.  0.]\n",
      " [ 0.  0.  0.  0.  0. -2.  0.  0.  0.  0.]\n",
      " [ 0.  0.  0.  0.  0.  0. -2.  0.  0.  0.]\n",
      " [ 0.  0.  0.  0.  0.  0.  0. -2.  0.  0.]\n",
      " [ 0.  0.  0.  0.  0.  0.  0.  0. -2.  0.]\n",
      " [ 0.  0.  0.  0.  0.  0.  0.  0.  0. -2.]]\n",
      "[[0. 1. 0. 0. 0. 0. 0. 0. 0. 0.]\n",
      " [0. 0. 1. 0. 0. 0. 0. 0. 0. 0.]\n",
      " [0. 0. 0. 1. 0. 0. 0. 0. 0. 0.]\n",
      " [0. 0. 0. 0. 1. 0. 0. 0. 0. 0.]\n",
      " [0. 0. 0. 0. 0. 1. 0. 0. 0. 0.]\n",
      " [0. 0. 0. 0. 0. 0. 1. 0. 0. 0.]\n",
      " [0. 0. 0. 0. 0. 0. 0. 1. 0. 0.]\n",
      " [0. 0. 0. 0. 0. 0. 0. 0. 1. 0.]\n",
      " [0. 0. 0. 0. 0. 0. 0. 0. 0. 1.]\n",
      " [0. 0. 0. 0. 0. 0. 0. 0. 0. 0.]]\n",
      "[[0. 0. 0. 0. 0. 0. 0. 0. 0. 0.]\n",
      " [1. 0. 0. 0. 0. 0. 0. 0. 0. 0.]\n",
      " [0. 1. 0. 0. 0. 0. 0. 0. 0. 0.]\n",
      " [0. 0. 1. 0. 0. 0. 0. 0. 0. 0.]\n",
      " [0. 0. 0. 1. 0. 0. 0. 0. 0. 0.]\n",
      " [0. 0. 0. 0. 1. 0. 0. 0. 0. 0.]\n",
      " [0. 0. 0. 0. 0. 1. 0. 0. 0. 0.]\n",
      " [0. 0. 0. 0. 0. 0. 1. 0. 0. 0.]\n",
      " [0. 0. 0. 0. 0. 0. 0. 1. 0. 0.]\n",
      " [0. 0. 0. 0. 0. 0. 0. 0. 1. 0.]]\n"
     ]
    }
   ],
   "source": [
    "#Construyamos la matriz:\n",
    "unos = np.ones(10) #es un vector de unos de 10 casilleros\n",
    "A    = np.diag(-2*unos)\n",
    "B    = np.diag(unos[1:],1) # le paso un vector de 1s de 9 casilleros, así el resultado queda de 10x10\n",
    "C    = np.diag(unos[1:],-1)\n",
    "print(A)\n",
    "print(B)\n",
    "print(C)"
   ]
  },
  {
   "cell_type": "code",
   "execution_count": 45,
   "metadata": {},
   "outputs": [
    {
     "name": "stdout",
     "output_type": "stream",
     "text": [
      "[[-2.  1.  0.  0.  0.  0.  0.  0.  0.  0.]\n",
      " [ 1. -2.  1.  0.  0.  0.  0.  0.  0.  0.]\n",
      " [ 0.  1. -2.  1.  0.  0.  0.  0.  0.  0.]\n",
      " [ 0.  0.  1. -2.  1.  0.  0.  0.  0.  0.]\n",
      " [ 0.  0.  0.  1. -2.  1.  0.  0.  0.  0.]\n",
      " [ 0.  0.  0.  0.  1. -2.  1.  0.  0.  0.]\n",
      " [ 0.  0.  0.  0.  0.  1. -2.  1.  0.  0.]\n",
      " [ 0.  0.  0.  0.  0.  0.  1. -2.  1.  0.]\n",
      " [ 0.  0.  0.  0.  0.  0.  0.  1. -2.  1.]\n",
      " [ 0.  0.  0.  0.  0.  0.  0.  0.  1. -2.]]\n"
     ]
    }
   ],
   "source": [
    "A = np.diag(-2*unos)+np.diag(unos[1:],1)+np.diag(unos[1:],-1)\n",
    "print(A)\n"
   ]
  },
  {
   "cell_type": "code",
   "execution_count": 46,
   "metadata": {},
   "outputs": [],
   "source": [
    "l, u = LU(A)\n",
    "b = unos"
   ]
  },
  {
   "cell_type": "code",
   "execution_count": 47,
   "metadata": {},
   "outputs": [
    {
     "name": "stdout",
     "output_type": "stream",
     "text": [
      "[1.  1.5 2.  2.5 3.  3.5 4.  4.5 5.  5.5]\n",
      "[1.  1.5 2.  2.5 3.  3.5 4.  4.5 5.  5.5]\n",
      "[ -5.  -9. -12. -14. -15. -15. -14. -12.  -9.  -5.]\n",
      "[ -5.  -9. -12. -14. -15. -15. -14. -12.  -9.  -5.]\n"
     ]
    }
   ],
   "source": [
    "yres = res_L_reducido(l, b)\n",
    "xres = res_U_reducido(u, y)\n",
    "y    = res_L(l, b)\n",
    "x    = res_U(u, y)\n",
    "\n",
    "print(yres)\n",
    "print(y)\n",
    "print(xres)\n",
    "print(x)"
   ]
  },
  {
   "cell_type": "code",
   "execution_count": null,
   "metadata": {},
   "outputs": [],
   "source": []
  }
 ],
 "metadata": {
  "kernelspec": {
   "display_name": "Python 3",
   "language": "python",
   "name": "python3"
  },
  "language_info": {
   "codemirror_mode": {
    "name": "ipython",
    "version": 3
   },
   "file_extension": ".py",
   "mimetype": "text/x-python",
   "name": "python",
   "nbconvert_exporter": "python",
   "pygments_lexer": "ipython3",
   "version": "3.8.3"
  }
 },
 "nbformat": 4,
 "nbformat_minor": 4
}
